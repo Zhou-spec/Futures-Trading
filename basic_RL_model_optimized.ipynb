{
 "cells": [
  {
   "cell_type": "code",
   "execution_count": 1,
   "metadata": {},
   "outputs": [],
   "source": [
    "import torch\n",
    "import torch.nn as nn\n",
    "import torch.optim as optim\n",
    "import torch.nn.functional as F\n",
    "import numpy as np\n",
    "import pandas as pd\n",
    "import matplotlib.pyplot as plt\n",
    "\n",
    "class Network(nn.Module):\n",
    "    def __init__(self, output_size, activation = nn.Identity()):\n",
    "        super(Network, self).__init__()\n",
    "        # in this case, the number of channels is 10 because we retrieve last 10 snapshots\n",
    "        self.conv1 = nn.Conv1d(in_channels=10, out_channels=10, kernel_size=2, stride=2, padding=0)\n",
    "        self.conv2 = nn.Conv1d(in_channels=10, out_channels=10, kernel_size=2, stride=2, padding=0)\n",
    "        self.conv3 = nn.Conv1d(in_channels=10, out_channels=10, kernel_size=3, stride=1, padding=0)\n",
    "        self.lstm = nn.LSTM(input_size=1, hidden_size=1, num_layers=1, batch_first=True)\n",
    "        self.fc1 = nn.Linear(11, 128)\n",
    "        self.fc2 = nn.Linear(128, 64)\n",
    "        self.fc3 = nn.Linear(64, output_size)\n",
    "        self.activation = activation\n",
    "        \n",
    "\n",
    "    def forward(self, x1, x2):\n",
    "        x1 = self.conv1(x1) \n",
    "        x1 = F.relu(x1)\n",
    "        x1 = self.conv2(x1)\n",
    "        x1 = F.relu(x1)\n",
    "        x1 = self.conv3(x1)\n",
    "        x1 = F.relu(x1)\n",
    "        x1 = x1.reshape(10, 1, 1)\n",
    "        x1, _ = self.lstm(x1)\n",
    "        x1 = x1.reshape(10, )\n",
    "        x1 = torch.cat((x1, x2), dim = 0)\n",
    "        x1 = self.fc1(x1)\n",
    "        x1 = F.relu(x1)\n",
    "        x1 = self.fc2(x1)\n",
    "        x1 = F.relu(x1)\n",
    "        x1 = self.fc3(x1)\n",
    "        x1 = self.activation(x1)\n",
    "        return x1\n",
    "    "
   ]
  },
  {
   "cell_type": "code",
   "execution_count": 2,
   "metadata": {},
   "outputs": [
    {
     "data": {
      "text/plain": [
       "'1.13.1'"
      ]
     },
     "execution_count": 2,
     "metadata": {},
     "output_type": "execute_result"
    }
   ],
   "source": [
    "torch.__version__"
   ]
  },
  {
   "cell_type": "code",
   "execution_count": 1,
   "metadata": {},
   "outputs": [
    {
     "ename": "NameError",
     "evalue": "name 'pd' is not defined",
     "output_type": "error",
     "traceback": [
      "\u001b[1;31m---------------------------------------------------------------------------\u001b[0m",
      "\u001b[1;31mNameError\u001b[0m                                 Traceback (most recent call last)",
      "Cell \u001b[1;32mIn[1], line 1\u001b[0m\n\u001b[1;32m----> 1\u001b[0m df \u001b[39m=\u001b[39m pd\u001b[39m.\u001b[39mread_csv(\u001b[39m'\u001b[39m\u001b[39mcleaned_dataset.csv\u001b[39m\u001b[39m'\u001b[39m)\n\u001b[0;32m      2\u001b[0m device \u001b[39m=\u001b[39m torch\u001b[39m.\u001b[39mdevice(\u001b[39m\"\u001b[39m\u001b[39mcuda:0\u001b[39m\u001b[39m\"\u001b[39m \u001b[39mif\u001b[39;00m torch\u001b[39m.\u001b[39mcuda\u001b[39m.\u001b[39mis_available() \u001b[39melse\u001b[39;00m \u001b[39m\"\u001b[39m\u001b[39mcpu\u001b[39m\u001b[39m\"\u001b[39m)\n\u001b[0;32m      3\u001b[0m data \u001b[39m=\u001b[39m df[df[\u001b[39m'\u001b[39m\u001b[39mtrading_day\u001b[39m\u001b[39m'\u001b[39m] \u001b[39m==\u001b[39m \u001b[39m25\u001b[39m]\n",
      "\u001b[1;31mNameError\u001b[0m: name 'pd' is not defined"
     ]
    }
   ],
   "source": [
    "df = pd.read_csv('cleaned_dataset.csv')\n",
    "device = torch.device(\"cuda:0\" if torch.cuda.is_available() else \"cpu\")\n",
    "data = df[df['trading_day'] == 25]\n",
    "data = data.drop(['trading_day'], axis=1)\n",
    "data = data[['AskPrice1', 'AskVolume1', 'BidPrice1', 'BidVolume1', 'AskPrice2', 'AskVolume2', 'BidPrice2', 'BidVolume2', 'AskPrice3', 'AskVolume3', 'BidPrice3', 'BidVolume3']]\n",
    "train_data = data.iloc[:5000, :]\n",
    "test_data = data.iloc[5000:5500, :]\n"
   ]
  },
  {
   "cell_type": "code",
   "execution_count": 20,
   "metadata": {},
   "outputs": [],
   "source": [
    "train_data = train_data.to_numpy()\n",
    "train_data = torch.from_numpy(train_data)\n",
    "train_data = train_data.float()\n",
    "train_data = train_data.to(device)\n"
   ]
  },
  {
   "cell_type": "markdown",
   "metadata": {},
   "source": [
    "Therefore, I think it makes sense that to consider snapshots for the last 10 seconds as an input, and start from there. For each snapshot, we only use the first three bid-ask price level, which means 12 features"
   ]
  },
  {
   "cell_type": "code",
   "execution_count": 21,
   "metadata": {},
   "outputs": [],
   "source": [
    "# write a function to get a path from the policy network\n",
    "def get_path(policy_network, train_dataset):\n",
    "    holding_positions = [0]\n",
    "    pos_changes = []\n",
    "    rewards = []\n",
    "    states1 = []\n",
    "    states2 = [] \n",
    "    action_dist_set = []\n",
    "    action_set = []\n",
    "    for i in range(9, len(train_dataset)):\n",
    "\n",
    "        # bid_ask information of past 10 snapshots\n",
    "        bid_ask = train_dataset[i - 9:i + 1, :]\n",
    "        bid_ask = bid_ask.unsqueeze(0)\n",
    "        old_hold = holding_positions[-1]\n",
    "        hold = torch.tensor([old_hold]).float().to(device)\n",
    "        states1.append(bid_ask)\n",
    "        states2.append(hold)\n",
    "        # get the action from the policy network, which is a probability distribution\n",
    "        action_dist = policy_network(bid_ask, hold)\n",
    "        action_dist_set.append(action_dist)\n",
    "        # sample an action from the probability distribution\n",
    "        action = torch.multinomial(action_dist, 1).item() - 1\n",
    "        action_set.append(action + 1)\n",
    "        \n",
    "        # decide the position change based on the action and current holding position\n",
    "        if old_hold == 0:\n",
    "            # make the action to be integer\n",
    "            a = int(action)\n",
    "            holding_positions.append(a)\n",
    "        if old_hold == 1:\n",
    "            holding_positions.append(min(action + old_hold, old_hold))\n",
    "        if old_hold == -1:\n",
    "            holding_positions.append(max(action + old_hold, old_hold))\n",
    "           \n",
    "        # compute the reward (cash change) \n",
    "        new_hold = holding_positions[-1]\n",
    "        position_change = new_hold - old_hold\n",
    "        pos_changes.append(position_change)\n",
    "    \n",
    "        reward = 0\n",
    "        if position_change == 0:\n",
    "            reward = 0\n",
    "        if position_change == 1:\n",
    "            reward = - train_dataset[i][2] \n",
    "        if position_change == -1:\n",
    "            reward = train_dataset[i][0] \n",
    "\n",
    "        rewards.append(reward)\n",
    "    \n",
    "    # at the end, the agent needs to liquid all positions\n",
    "    if holding_positions[-1] == 1:\n",
    "        rewards.append(train_dataset[-1][2])\n",
    "    elif holding_positions[-1] == -1:\n",
    "        rewards.append(-train_dataset[-1][0])\n",
    "    else:\n",
    "        rewards.append(0)\n",
    "\n",
    "    # convert the list of rewards to a tensor\n",
    "    rewards = torch.tensor(rewards).float().to(device)\n",
    "    # convert the list of states to a tensor\n",
    "    states1 = torch.stack(states1).to(device)\n",
    "    states2 = torch.stack(states2).to(device)\n",
    "    action_dist_set = torch.stack(action_dist_set).to(device)\n",
    "    return states1, states2, rewards, action_dist_set, action_set\n",
    "\n",
    "\n",
    "        \n",
    "# train the value network using the TD(0) algorithm\n",
    "def train_value_network(value_network, policy_network, train_dataset, value_optimizer, gamma = 0.99, epochs = 20):\n",
    "    # define the loss function\n",
    "    loss = 0\n",
    "    losses = []\n",
    "    # loop over the epochs\n",
    "    for epoch in range(epochs):\n",
    "        # get the path from the policy network\n",
    "        # only use one trajectory each epoch\n",
    "        states1, states2, rewards, action_dist_set, action_set = get_path(policy_network, train_dataset)\n",
    "        # get the value estimate from the value network\n",
    "        value_estimate = []\n",
    "        for i in range(len(states1)):\n",
    "            value_estimate.append(value_network(states1[i], states2[i]))\n",
    "        value_estimate = torch.stack(value_estimate).squeeze(1)\n",
    "        new_value_estimate = torch.cat((value_estimate, torch.tensor([0]).to(device)))\n",
    "        # compute the TD(0) error\n",
    "        loss = (rewards[:-1] + gamma * new_value_estimate[1:] - new_value_estimate[:-1]).pow(2).mean()\n",
    "        # zero the gradient\n",
    "        value_optimizer.zero_grad()\n",
    "        # compute the gradient\n",
    "        loss.backward()\n",
    "        # update the weights\n",
    "        value_optimizer.step()\n",
    "        # print the loss\n",
    "        losses.append(loss.item())\n",
    "        if (epoch - 4) % 5 == 0:\n",
    "            print('value epoch: {}, value loss: {:.5f}'.format(epoch + 1, loss.item()))\n",
    "\n",
    "    #plt.figure(figsize = (10, 5))\n",
    "    #plt.plot(losses)\n",
    "    #plt.xlabel('Epoch')\n",
    "    #plt.ylabel('Loss')\n",
    "    #plt.title('Loss over Epochs')\n",
    "    #plt.show()\n",
    "    return losses\n",
    "\n",
    "\n",
    "# the following define a function that compute advantage estimation for a trajectory\n",
    "def advantage_estimate(states1, states2, rewards, value_network, gamma):\n",
    "    value_estimate = []\n",
    "    for i in range(len(states1)):\n",
    "        value_estimate.append(value_network(states1[i], states2[i]))\n",
    "    value_estimate = torch.stack(value_estimate).squeeze(1)\n",
    "    new_value_estimate = torch.cat((value_estimate, torch.tensor([0]).to(device)))\n",
    "    advantages = rewards[:-1] + gamma * new_value_estimate[1:] - new_value_estimate[:-1]\n",
    "    return advantages\n",
    "\n",
    "\n",
    "        "
   ]
  },
  {
   "cell_type": "code",
   "execution_count": 22,
   "metadata": {},
   "outputs": [],
   "source": [
    "# states, rewards, actions are trajetory data of old policy\n",
    "# there is a new_policy_network that is updated by ppo_update()\n",
    "def ppo_loss(new_policy_network, policy_network, value_network, train_dataset, batch_size, epsilon=0.2, gamma = 0.99):\n",
    "    # batch size: the number of trajectories\n",
    "    loss = torch.tensor(0.0, requires_grad=True).to(device)\n",
    "    for _ in range(batch_size):\n",
    "        states1, states2, rewards, action_dist_set, action_set = get_path(policy_network, train_dataset)\n",
    "        new_action_dist_set = [policy_network(states1[i], states2[i]) for i in range(len(states1))]\n",
    "        new_action_dist_set = torch.stack(new_action_dist_set).to(device)\n",
    "        action_dist_set = action_dist_set.detach()\n",
    "        rewards = rewards.detach()\n",
    "        ratio = []\n",
    "        for i in range(len(action_dist_set)):\n",
    "            ratio.append(new_action_dist_set[i][action_set[i]] / action_dist_set[i][action_set[i]])\n",
    "        ratio = torch.stack(ratio).to(device).detach()\n",
    "        # compute the advantage of the trajectory\n",
    "        advantage = advantage_estimate(states1, states2, rewards, value_network, gamma)\n",
    "        advantage = advantage.detach()\n",
    "        # compute the clipped ratio\n",
    "        clipped_ratio = torch.clamp(ratio, 1.0 - epsilon, 1.0 + epsilon)\n",
    "        # compute the surrogate loss\n",
    "        policy_loss = -torch.min(ratio * advantage, clipped_ratio * advantage).mean()\n",
    "        # compute the total loss\n",
    "        loss = loss + policy_loss\n",
    "    return loss\n",
    "\n",
    "    \n",
    "def ppo_train(new_policy_network, policy_network, value_network, optimizer, train_dataset, batch_size, epochs, epsilon=0.1, gamma = 0.99):\n",
    "    \n",
    "    for epoch in range(epochs):\n",
    "        loss = ppo_loss(new_policy_network, policy_network, value_network, train_dataset, batch_size, epsilon, gamma)\n",
    "        loss.backward()\n",
    "        optimizer.step()\n",
    "        optimizer.zero_grad()\n",
    "\n",
    "    return None\n",
    "    \n",
    "\n",
    "\n",
    "def wealth_dist(num_traj, policy_network, dataset):\n",
    "    wealths = []\n",
    "    for num in range(num_traj):\n",
    "        states1, states2, rewards, action_dist_set, action_set = get_path(policy_network, dataset)\n",
    "        wealths.append(sum(rewards))\n",
    "\n",
    "    return wealths\n"
   ]
  },
  {
   "cell_type": "code",
   "execution_count": 7,
   "metadata": {},
   "outputs": [],
   "source": [
    "policy_network = Network(3, activation = nn.Softmax())\n",
    "value_network = Network(1)\n",
    "device = torch.device('cuda' if torch.cuda.is_available() else 'cpu')\n",
    "policy_network = nn.DataParallel(policy_network)\n",
    "value_network = nn.DataParallel(value_network)\n",
    "policy_network.to(device)\n",
    "value_network.to(device)\n",
    "\n",
    "oldest_policy_network = Network(3, activation = nn.Softmax()).to(device)\n",
    "oldest_policy_network.load_state_dict(policy_network.state_dict(), strict=False)\n",
    "\n",
    "#policy_network = torch.compile(policy_network)\n",
    "#value_network = torch.compile(value_network)\n",
    "\n",
    "policy_optimizer = optim.Adam(policy_network.parameters(), lr=0.05)\n",
    "value_optimizer = optim.Adam(value_network.parameters(), lr=0.05)\n"
   ]
  },
  {
   "cell_type": "code",
   "execution_count": 23,
   "metadata": {},
   "outputs": [
    {
     "name": "stdout",
     "output_type": "stream",
     "text": [
      "iteration:  0\n"
     ]
    },
    {
     "name": "stderr",
     "output_type": "stream",
     "text": [
      "C:\\Users\\specf\\AppData\\Local\\Temp\\ipykernel_25980\\2842180769.py:39: UserWarning: Implicit dimension choice for softmax has been deprecated. Change the call to include dim=X as an argument.\n",
      "  x1 = self.activation(x1)\n"
     ]
    },
    {
     "name": "stdout",
     "output_type": "stream",
     "text": [
      "this is value loss\n",
      "16957.501953125\n",
      "this is ppo loss\n",
      "0.40312257409095764\n",
      "iteration:  1\n",
      "this is value loss\n",
      "13602.869140625\n"
     ]
    },
    {
     "ename": "KeyboardInterrupt",
     "evalue": "",
     "output_type": "error",
     "traceback": [
      "\u001b[1;31m---------------------------------------------------------------------------\u001b[0m",
      "\u001b[1;31mKeyboardInterrupt\u001b[0m                         Traceback (most recent call last)",
      "Cell \u001b[1;32mIn[23], line 27\u001b[0m\n\u001b[0;32m     24\u001b[0m \u001b[39mprint\u001b[39m(\u001b[39m'\u001b[39m\u001b[39mthis is value loss\u001b[39m\u001b[39m'\u001b[39m)\n\u001b[0;32m     25\u001b[0m \u001b[39mprint\u001b[39m(value_losses[\u001b[39m-\u001b[39m\u001b[39m1\u001b[39m])\n\u001b[1;32m---> 27\u001b[0m loss \u001b[39m=\u001b[39m ppo_loss(policy_network, oldest_policy_network, value_network, train_data, \u001b[39m1\u001b[39;49m, epsilon\u001b[39m=\u001b[39;49m\u001b[39m0.2\u001b[39;49m, gamma \u001b[39m=\u001b[39;49m \u001b[39m0.99\u001b[39;49m)\n\u001b[0;32m     28\u001b[0m ppo\u001b[39m.\u001b[39mappend(loss\u001b[39m.\u001b[39mitem())\n\u001b[0;32m     29\u001b[0m \u001b[39mprint\u001b[39m(\u001b[39m'\u001b[39m\u001b[39mthis is ppo loss\u001b[39m\u001b[39m'\u001b[39m)\n",
      "Cell \u001b[1;32mIn[22], line 17\u001b[0m, in \u001b[0;36mppo_loss\u001b[1;34m(new_policy_network, policy_network, value_network, train_dataset, batch_size, epsilon, gamma)\u001b[0m\n\u001b[0;32m     15\u001b[0m ratio \u001b[39m=\u001b[39m torch\u001b[39m.\u001b[39mstack(ratio)\u001b[39m.\u001b[39mto(device)\u001b[39m.\u001b[39mdetach()\n\u001b[0;32m     16\u001b[0m \u001b[39m# compute the advantage of the trajectory\u001b[39;00m\n\u001b[1;32m---> 17\u001b[0m advantage \u001b[39m=\u001b[39m advantage_estimate(states1, states2, rewards, value_network, gamma)\n\u001b[0;32m     18\u001b[0m advantage \u001b[39m=\u001b[39m advantage\u001b[39m.\u001b[39mdetach()\n\u001b[0;32m     19\u001b[0m \u001b[39m# compute the clipped ratio\u001b[39;00m\n",
      "Cell \u001b[1;32mIn[21], line 111\u001b[0m, in \u001b[0;36madvantage_estimate\u001b[1;34m(states1, states2, rewards, value_network, gamma)\u001b[0m\n\u001b[0;32m    109\u001b[0m value_estimate \u001b[39m=\u001b[39m []\n\u001b[0;32m    110\u001b[0m \u001b[39mfor\u001b[39;00m i \u001b[39min\u001b[39;00m \u001b[39mrange\u001b[39m(\u001b[39mlen\u001b[39m(states1)):\n\u001b[1;32m--> 111\u001b[0m     value_estimate\u001b[39m.\u001b[39mappend(value_network(states1[i], states2[i]))\n\u001b[0;32m    112\u001b[0m value_estimate \u001b[39m=\u001b[39m torch\u001b[39m.\u001b[39mstack(value_estimate)\u001b[39m.\u001b[39msqueeze(\u001b[39m1\u001b[39m)\n\u001b[0;32m    113\u001b[0m new_value_estimate \u001b[39m=\u001b[39m torch\u001b[39m.\u001b[39mcat((value_estimate, torch\u001b[39m.\u001b[39mtensor([\u001b[39m0\u001b[39m])\u001b[39m.\u001b[39mto(device)))\n",
      "File \u001b[1;32mc:\\Users\\specf\\anaconda3\\envs\\qids-2023-comp\\lib\\site-packages\\torch\\nn\\modules\\module.py:1194\u001b[0m, in \u001b[0;36mModule._call_impl\u001b[1;34m(self, *input, **kwargs)\u001b[0m\n\u001b[0;32m   1190\u001b[0m \u001b[39m# If we don't have any hooks, we want to skip the rest of the logic in\u001b[39;00m\n\u001b[0;32m   1191\u001b[0m \u001b[39m# this function, and just call forward.\u001b[39;00m\n\u001b[0;32m   1192\u001b[0m \u001b[39mif\u001b[39;00m \u001b[39mnot\u001b[39;00m (\u001b[39mself\u001b[39m\u001b[39m.\u001b[39m_backward_hooks \u001b[39mor\u001b[39;00m \u001b[39mself\u001b[39m\u001b[39m.\u001b[39m_forward_hooks \u001b[39mor\u001b[39;00m \u001b[39mself\u001b[39m\u001b[39m.\u001b[39m_forward_pre_hooks \u001b[39mor\u001b[39;00m _global_backward_hooks\n\u001b[0;32m   1193\u001b[0m         \u001b[39mor\u001b[39;00m _global_forward_hooks \u001b[39mor\u001b[39;00m _global_forward_pre_hooks):\n\u001b[1;32m-> 1194\u001b[0m     \u001b[39mreturn\u001b[39;00m forward_call(\u001b[39m*\u001b[39m\u001b[39minput\u001b[39m, \u001b[39m*\u001b[39m\u001b[39m*\u001b[39mkwargs)\n\u001b[0;32m   1195\u001b[0m \u001b[39m# Do not call functions when jit is used\u001b[39;00m\n\u001b[0;32m   1196\u001b[0m full_backward_hooks, non_full_backward_hooks \u001b[39m=\u001b[39m [], []\n",
      "File \u001b[1;32mc:\\Users\\specf\\anaconda3\\envs\\qids-2023-comp\\lib\\site-packages\\torch\\nn\\parallel\\data_parallel.py:169\u001b[0m, in \u001b[0;36mDataParallel.forward\u001b[1;34m(self, *inputs, **kwargs)\u001b[0m\n\u001b[0;32m    166\u001b[0m     kwargs \u001b[39m=\u001b[39m ({},)\n\u001b[0;32m    168\u001b[0m \u001b[39mif\u001b[39;00m \u001b[39mlen\u001b[39m(\u001b[39mself\u001b[39m\u001b[39m.\u001b[39mdevice_ids) \u001b[39m==\u001b[39m \u001b[39m1\u001b[39m:\n\u001b[1;32m--> 169\u001b[0m     \u001b[39mreturn\u001b[39;00m \u001b[39mself\u001b[39m\u001b[39m.\u001b[39mmodule(\u001b[39m*\u001b[39minputs[\u001b[39m0\u001b[39m], \u001b[39m*\u001b[39m\u001b[39m*\u001b[39mkwargs[\u001b[39m0\u001b[39m])\n\u001b[0;32m    170\u001b[0m replicas \u001b[39m=\u001b[39m \u001b[39mself\u001b[39m\u001b[39m.\u001b[39mreplicate(\u001b[39mself\u001b[39m\u001b[39m.\u001b[39mmodule, \u001b[39mself\u001b[39m\u001b[39m.\u001b[39mdevice_ids[:\u001b[39mlen\u001b[39m(inputs)])\n\u001b[0;32m    171\u001b[0m outputs \u001b[39m=\u001b[39m \u001b[39mself\u001b[39m\u001b[39m.\u001b[39mparallel_apply(replicas, inputs, kwargs)\n",
      "File \u001b[1;32mc:\\Users\\specf\\anaconda3\\envs\\qids-2023-comp\\lib\\site-packages\\torch\\nn\\modules\\module.py:1194\u001b[0m, in \u001b[0;36mModule._call_impl\u001b[1;34m(self, *input, **kwargs)\u001b[0m\n\u001b[0;32m   1190\u001b[0m \u001b[39m# If we don't have any hooks, we want to skip the rest of the logic in\u001b[39;00m\n\u001b[0;32m   1191\u001b[0m \u001b[39m# this function, and just call forward.\u001b[39;00m\n\u001b[0;32m   1192\u001b[0m \u001b[39mif\u001b[39;00m \u001b[39mnot\u001b[39;00m (\u001b[39mself\u001b[39m\u001b[39m.\u001b[39m_backward_hooks \u001b[39mor\u001b[39;00m \u001b[39mself\u001b[39m\u001b[39m.\u001b[39m_forward_hooks \u001b[39mor\u001b[39;00m \u001b[39mself\u001b[39m\u001b[39m.\u001b[39m_forward_pre_hooks \u001b[39mor\u001b[39;00m _global_backward_hooks\n\u001b[0;32m   1193\u001b[0m         \u001b[39mor\u001b[39;00m _global_forward_hooks \u001b[39mor\u001b[39;00m _global_forward_pre_hooks):\n\u001b[1;32m-> 1194\u001b[0m     \u001b[39mreturn\u001b[39;00m forward_call(\u001b[39m*\u001b[39m\u001b[39minput\u001b[39m, \u001b[39m*\u001b[39m\u001b[39m*\u001b[39mkwargs)\n\u001b[0;32m   1195\u001b[0m \u001b[39m# Do not call functions when jit is used\u001b[39;00m\n\u001b[0;32m   1196\u001b[0m full_backward_hooks, non_full_backward_hooks \u001b[39m=\u001b[39m [], []\n",
      "Cell \u001b[1;32mIn[1], line 26\u001b[0m, in \u001b[0;36mNetwork.forward\u001b[1;34m(self, x1, x2)\u001b[0m\n\u001b[0;32m     24\u001b[0m x1 \u001b[39m=\u001b[39m \u001b[39mself\u001b[39m\u001b[39m.\u001b[39mconv1(x1) \n\u001b[0;32m     25\u001b[0m x1 \u001b[39m=\u001b[39m F\u001b[39m.\u001b[39mrelu(x1)\n\u001b[1;32m---> 26\u001b[0m x1 \u001b[39m=\u001b[39m \u001b[39mself\u001b[39;49m\u001b[39m.\u001b[39;49mconv2(x1)\n\u001b[0;32m     27\u001b[0m x1 \u001b[39m=\u001b[39m F\u001b[39m.\u001b[39mrelu(x1)\n\u001b[0;32m     28\u001b[0m x1 \u001b[39m=\u001b[39m \u001b[39mself\u001b[39m\u001b[39m.\u001b[39mconv3(x1)\n",
      "File \u001b[1;32mc:\\Users\\specf\\anaconda3\\envs\\qids-2023-comp\\lib\\site-packages\\torch\\nn\\modules\\module.py:1194\u001b[0m, in \u001b[0;36mModule._call_impl\u001b[1;34m(self, *input, **kwargs)\u001b[0m\n\u001b[0;32m   1190\u001b[0m \u001b[39m# If we don't have any hooks, we want to skip the rest of the logic in\u001b[39;00m\n\u001b[0;32m   1191\u001b[0m \u001b[39m# this function, and just call forward.\u001b[39;00m\n\u001b[0;32m   1192\u001b[0m \u001b[39mif\u001b[39;00m \u001b[39mnot\u001b[39;00m (\u001b[39mself\u001b[39m\u001b[39m.\u001b[39m_backward_hooks \u001b[39mor\u001b[39;00m \u001b[39mself\u001b[39m\u001b[39m.\u001b[39m_forward_hooks \u001b[39mor\u001b[39;00m \u001b[39mself\u001b[39m\u001b[39m.\u001b[39m_forward_pre_hooks \u001b[39mor\u001b[39;00m _global_backward_hooks\n\u001b[0;32m   1193\u001b[0m         \u001b[39mor\u001b[39;00m _global_forward_hooks \u001b[39mor\u001b[39;00m _global_forward_pre_hooks):\n\u001b[1;32m-> 1194\u001b[0m     \u001b[39mreturn\u001b[39;00m forward_call(\u001b[39m*\u001b[39m\u001b[39minput\u001b[39m, \u001b[39m*\u001b[39m\u001b[39m*\u001b[39mkwargs)\n\u001b[0;32m   1195\u001b[0m \u001b[39m# Do not call functions when jit is used\u001b[39;00m\n\u001b[0;32m   1196\u001b[0m full_backward_hooks, non_full_backward_hooks \u001b[39m=\u001b[39m [], []\n",
      "File \u001b[1;32mc:\\Users\\specf\\anaconda3\\envs\\qids-2023-comp\\lib\\site-packages\\torch\\nn\\modules\\conv.py:313\u001b[0m, in \u001b[0;36mConv1d.forward\u001b[1;34m(self, input)\u001b[0m\n\u001b[0;32m    312\u001b[0m \u001b[39mdef\u001b[39;00m \u001b[39mforward\u001b[39m(\u001b[39mself\u001b[39m, \u001b[39minput\u001b[39m: Tensor) \u001b[39m-\u001b[39m\u001b[39m>\u001b[39m Tensor:\n\u001b[1;32m--> 313\u001b[0m     \u001b[39mreturn\u001b[39;00m \u001b[39mself\u001b[39;49m\u001b[39m.\u001b[39;49m_conv_forward(\u001b[39minput\u001b[39;49m, \u001b[39mself\u001b[39;49m\u001b[39m.\u001b[39;49mweight, \u001b[39mself\u001b[39;49m\u001b[39m.\u001b[39;49mbias)\n",
      "File \u001b[1;32mc:\\Users\\specf\\anaconda3\\envs\\qids-2023-comp\\lib\\site-packages\\torch\\nn\\modules\\conv.py:309\u001b[0m, in \u001b[0;36mConv1d._conv_forward\u001b[1;34m(self, input, weight, bias)\u001b[0m\n\u001b[0;32m    305\u001b[0m \u001b[39mif\u001b[39;00m \u001b[39mself\u001b[39m\u001b[39m.\u001b[39mpadding_mode \u001b[39m!=\u001b[39m \u001b[39m'\u001b[39m\u001b[39mzeros\u001b[39m\u001b[39m'\u001b[39m:\n\u001b[0;32m    306\u001b[0m     \u001b[39mreturn\u001b[39;00m F\u001b[39m.\u001b[39mconv1d(F\u001b[39m.\u001b[39mpad(\u001b[39minput\u001b[39m, \u001b[39mself\u001b[39m\u001b[39m.\u001b[39m_reversed_padding_repeated_twice, mode\u001b[39m=\u001b[39m\u001b[39mself\u001b[39m\u001b[39m.\u001b[39mpadding_mode),\n\u001b[0;32m    307\u001b[0m                     weight, bias, \u001b[39mself\u001b[39m\u001b[39m.\u001b[39mstride,\n\u001b[0;32m    308\u001b[0m                     _single(\u001b[39m0\u001b[39m), \u001b[39mself\u001b[39m\u001b[39m.\u001b[39mdilation, \u001b[39mself\u001b[39m\u001b[39m.\u001b[39mgroups)\n\u001b[1;32m--> 309\u001b[0m \u001b[39mreturn\u001b[39;00m F\u001b[39m.\u001b[39;49mconv1d(\u001b[39minput\u001b[39;49m, weight, bias, \u001b[39mself\u001b[39;49m\u001b[39m.\u001b[39;49mstride,\n\u001b[0;32m    310\u001b[0m                 \u001b[39mself\u001b[39;49m\u001b[39m.\u001b[39;49mpadding, \u001b[39mself\u001b[39;49m\u001b[39m.\u001b[39;49mdilation, \u001b[39mself\u001b[39;49m\u001b[39m.\u001b[39;49mgroups)\n",
      "\u001b[1;31mKeyboardInterrupt\u001b[0m: "
     ]
    }
   ],
   "source": [
    "num_iter = 20\n",
    "# num_iter this is the number of times that we improve the policy\n",
    "# batch_size is the number of trajectories used of computing ppo loss\n",
    "# epoch is the number of trains for ppo updates\n",
    "#torch._dynamo.config.suppress_errors = True\n",
    "wealth_records = []\n",
    "value_losses = []\n",
    "ppo = []\n",
    "\n",
    "for iteration in range(num_iter):\n",
    "    print(\"iteration: \", iteration)\n",
    "    value_loss = train_value_network(value_network, policy_network, train_data, value_optimizer, 0.9, epochs = 1)\n",
    "\n",
    "    value_losses += value_loss\n",
    "\n",
    "    new_policy_network = Network(3, activation = nn.Softmax()).to(device)\n",
    "    new_policy_network.load_state_dict(policy_network.state_dict(), strict=False)\n",
    "    new_policy_network = nn.DataParallel(new_policy_network)\n",
    "    new_policy_optimizer = optim.Adam(new_policy_network.parameters(), lr = 0.05)\n",
    "        \n",
    "    ppo_train(new_policy_network, policy_network, value_network, new_policy_optimizer, train_data, batch_size = 1, epochs = 1, epsilon = 0.1, gamma = 0.99)\n",
    "    policy_network = new_policy_network\n",
    "\n",
    "    print('this is value loss')\n",
    "    print(value_losses[-1])\n",
    "\n",
    "    loss = ppo_loss(policy_network, oldest_policy_network, value_network, train_data, 1, epsilon=0.2, gamma = 0.99)\n",
    "    ppo.append(loss.item())\n",
    "    print('this is ppo loss')\n",
    "    print(ppo[-1])\n",
    "\n",
    "    #print('this is ppo loss')\n",
    "    #print(ppo_losses[-1])\n",
    "    #w = wealth_dist(3, policy_network, train_data)\n",
    "    #wealth_record = []\n",
    "    #for r in w:\n",
    "        #wealth_record.append(r.item())\n",
    "    #wealth_records.append(wealth_record)\n"
   ]
  },
  {
   "cell_type": "code",
   "execution_count": 16,
   "metadata": {},
   "outputs": [
    {
     "data": {
      "image/png": "[encoded data removed]",
      "text/plain": [
       "<Figure size 1000x500 with 1 Axes>"
      ]
     },
     "metadata": {},
     "output_type": "display_data"
    }
   ],
   "source": [
    "plt.figure(figsize=(10, 5))\n",
    "plt.plot(np.arange(len(ppo)), ppo)\n",
    "plt.ylabel('ppo_loss')\n",
    "plt.xlabel('epoch')\n",
    "plt.show()"
   ]
  },
  {
   "cell_type": "code",
   "execution_count": 17,
   "metadata": {},
   "outputs": [
    {
     "data": {
      "image/png": "[encoded data removed]",
      "text/plain": [
       "<Figure size 1000x500 with 1 Axes>"
      ]
     },
     "metadata": {},
     "output_type": "display_data"
    }
   ],
   "source": [
    "plt.figure(figsize=(10, 5))\n",
    "plt.plot(np.arange(len(value_losses)), value_losses)\n",
    "plt.ylabel('value_loss')\n",
    "plt.xlabel('Episodes')\n",
    "plt.show()"
   ]
  },
  {
   "cell_type": "code",
   "execution_count": null,
   "metadata": {},
   "outputs": [],
   "source": [
    "wealth_records\n",
    "torch.save(policy_network.state_dict(), 'policy_parameters.pth')\n",
    "torch.save(value_network.state_dict(), 'value_parameters.pth')\n",
    "wealth_numpy = np.array(wealth_records)\n",
    "np.save('wealth_samples.npy', wealth_numpy)"
   ]
  },
  {
   "cell_type": "code",
   "execution_count": null,
   "metadata": {},
   "outputs": [
    {
     "name": "stdout",
     "output_type": "stream",
     "text": [
      "[[422.  447.  420.  439.  432.5 442.  440.  443.  425.5 439. ]\n",
      " [443.5 453.5 458.5 458.5 442.  461.5 453.5 460.  465.  467.5]\n",
      " [422.  410.5 401.  433.5 423.5 424.5 427.  425.  424.5 424.5]\n",
      " [432.  430.5 441.  460.5 432.  443.5 445.  443.5 461.5 439. ]\n",
      " [423.  423.5 433.  441.  445.5 441.5 449.  439.5 428.5 423.5]]\n"
     ]
    }
   ],
   "source": [
    "print(wealth_numpy)"
   ]
  }
 ],
 "metadata": {
  "kernelspec": {
   "display_name": "pvlib",
   "language": "python",
   "name": "python3"
  },
  "language_info": {
   "codemirror_mode": {
    "name": "ipython",
    "version": 3
   },
   "file_extension": ".py",
   "mimetype": "text/x-python",
   "name": "python",
   "nbconvert_exporter": "python",
   "pygments_lexer": "ipython3",
   "version": "3.9.16"
  },
  "orig_nbformat": 4
 },
 "nbformat": 4,
 "nbformat_minor": 2
}
